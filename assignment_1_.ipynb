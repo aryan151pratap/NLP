{
  "nbformat": 4,
  "nbformat_minor": 0,
  "metadata": {
    "colab": {
      "provenance": [],
      "authorship_tag": "ABX9TyN12fcOdBSluZ4D+bci4tfL",
      "include_colab_link": true
    },
    "kernelspec": {
      "name": "python3",
      "display_name": "Python 3"
    },
    "language_info": {
      "name": "python"
    }
  },
  "cells": [
    {
      "cell_type": "markdown",
      "metadata": {
        "id": "view-in-github",
        "colab_type": "text"
      },
      "source": [
        "<a href=\"https://colab.research.google.com/github/aryan151pratap/NLP/blob/main/assignment_1_.ipynb\" target=\"_parent\"><img src=\"https://colab.research.google.com/assets/colab-badge.svg\" alt=\"Open In Colab\"/></a>"
      ]
    },
    {
      "cell_type": "markdown",
      "source": [
        "**Class assignement-1**\n",
        "1. Print an f-string that displays NLP stands for Natural language processing using variable provided.\n",
        "2. Create a file in the current working directory called contacts.txt by running the cell below.\n",
        "\n",
        "3. Open the file() and use read() to save the contents of the file to a string called fileds. Make sure the file is closed at the end.\n",
        "4. Use PyPDF2 to open any pdf file. Extract the text of pages 2.\n",
        "5.  open the file contacts.txt in the apprend mode. Add the text of page 2 from the above to contacts.txt\n",
        "6. Using the page_two text variable created above, extract any email address that were contained in the pdf file.  "
      ],
      "metadata": {
        "id": "wurmgx-4sECm"
      }
    },
    {
      "cell_type": "markdown",
      "source": [
        "# **1. Print an f-string that displays NLP stands for Natural language processing using variable provided.**"
      ],
      "metadata": {
        "id": "YubjpKYUrlPm"
      }
    },
    {
      "cell_type": "code",
      "execution_count": 9,
      "metadata": {
        "colab": {
          "base_uri": "https://localhost:8080/",
          "height": 0
        },
        "id": "JeqkAXnCsCaG",
        "outputId": "7c87db93-3a3a-4615-8b19-87fd6b55e105"
      },
      "outputs": [
        {
          "output_type": "stream",
          "name": "stdout",
          "text": [
            "NLP stands for Natural Language Processing\n"
          ]
        }
      ],
      "source": [
        "abbr= 'NLP'\n",
        "full_text='Natural Language Processing'\n",
        "print(f\"{abbr} stands for {full_text}\")"
      ]
    },
    {
      "cell_type": "markdown",
      "source": [
        "# **2. Create a file in the current working directory called contacts.txt by running the cell below.**\n",
        "\n",
        "**%%** at the start means it’s a cell magic in Jupyter.\n",
        "\n",
        "**writefile** tells Jupyter:\n",
        ":\n",
        "\"Take everything in this cell and write it to a file with the given name.\""
      ],
      "metadata": {
        "id": "j2mycYR4rkTr"
      }
    },
    {
      "cell_type": "code",
      "source": [
        "# it will create (or overwrite) a file named contacts.txt in the current working directory.\n",
        "\n",
        "%%writefile contacts.txt\n",
        "First_Name, Last_Name, Title, Extension,Email"
      ],
      "metadata": {
        "colab": {
          "base_uri": "https://localhost:8080/",
          "height": 0
        },
        "id": "P5seUs3JsX5-",
        "outputId": "2b95542d-6ce6-42e1-bdbd-61988edea059"
      },
      "execution_count": 10,
      "outputs": [
        {
          "output_type": "stream",
          "name": "stdout",
          "text": [
            "Overwriting contacts.txt\n"
          ]
        }
      ]
    },
    {
      "cell_type": "markdown",
      "source": [
        "# **3. Open the file() and use read() to save the contents of the file to a string called fileds. Make sure the file is closed at the end.**\n",
        "\n"
      ],
      "metadata": {
        "id": "atp3efyEtGkH"
      }
    },
    {
      "cell_type": "code",
      "source": [
        "file_data = open('contacts.txt') # load or open the file 'contacts.txt'\n",
        "fields=file_data.read() # read the text of the file\n",
        "print(fields) # display the file 'contacts.txt' text data\n",
        "file_data.close() # close the file"
      ],
      "metadata": {
        "colab": {
          "base_uri": "https://localhost:8080/",
          "height": 0
        },
        "id": "EjybNeGBsd6h",
        "outputId": "f6c1090a-db2c-4333-a45d-73862d5e4065"
      },
      "execution_count": 11,
      "outputs": [
        {
          "output_type": "stream",
          "name": "stdout",
          "text": [
            "First_Name, Last_Name, Title, Extension,Email\n",
            "\n"
          ]
        }
      ]
    },
    {
      "cell_type": "code",
      "source": [
        "!pip install PyPDF2 # install the 'PyPDF2' library to read the pdf text data"
      ],
      "metadata": {
        "colab": {
          "base_uri": "https://localhost:8080/",
          "height": 0
        },
        "id": "Z8Bo64yttHF0",
        "outputId": "12de8262-2c57-450c-d5e8-a93037200421"
      },
      "execution_count": 12,
      "outputs": [
        {
          "output_type": "stream",
          "name": "stdout",
          "text": [
            "Collecting PyPDF2\n",
            "  Downloading pypdf2-3.0.1-py3-none-any.whl.metadata (6.8 kB)\n",
            "Downloading pypdf2-3.0.1-py3-none-any.whl (232 kB)\n",
            "\u001b[?25l   \u001b[90m━━━━━━━━━━━━━━━━━━━━━━━━━━━━━━━━━━━━━━━━\u001b[0m \u001b[32m0.0/232.6 kB\u001b[0m \u001b[31m?\u001b[0m eta \u001b[36m-:--:--\u001b[0m\r\u001b[2K   \u001b[91m━━━━━━━━━━━━━━━━━━━━━━━━━━\u001b[0m\u001b[90m╺\u001b[0m\u001b[90m━━━━━━━━━━━━━\u001b[0m \u001b[32m153.6/232.6 kB\u001b[0m \u001b[31m4.8 MB/s\u001b[0m eta \u001b[36m0:00:01\u001b[0m\r\u001b[2K   \u001b[90m━━━━━━━━━━━━━━━━━━━━━━━━━━━━━━━━━━━━━━━━\u001b[0m \u001b[32m232.6/232.6 kB\u001b[0m \u001b[31m4.4 MB/s\u001b[0m eta \u001b[36m0:00:00\u001b[0m\n",
            "\u001b[?25hInstalling collected packages: PyPDF2\n",
            "Successfully installed PyPDF2-3.0.1\n"
          ]
        }
      ]
    },
    {
      "cell_type": "markdown",
      "source": [
        "# **4. Use PyPDF2 to open any pdf file. Extract the text of pages 2.**"
      ],
      "metadata": {
        "id": "m8nJxKiftrFS"
      }
    },
    {
      "cell_type": "code",
      "source": [
        "import PyPDF2 # import the PyPDF2 library to rad the pdf\n",
        "f=open('converted_text.pdf', 'rb') # open the pdf in read binary form\n",
        "data=PyPDF2.PdfReader(f) # read the pdf text data\n",
        "page_2=data.pages[1].extract_text() # extract the text of second page fron the pdf\n",
        "f.close() # close the pdf"
      ],
      "metadata": {
        "id": "hbeec1Xksxld"
      },
      "execution_count": 13,
      "outputs": []
    },
    {
      "cell_type": "code",
      "source": [
        "print(page_2) # print the page 2 pdf data store in 'page_2' variable"
      ],
      "metadata": {
        "colab": {
          "base_uri": "https://localhost:8080/",
          "height": 0
        },
        "id": "Aj7QjTBOtBTy",
        "outputId": "69080431-1de7-4370-bbb3-d9312401a5d8"
      },
      "execution_count": 14,
      "outputs": [
        {
          "output_type": "stream",
          "name": "stdout",
          "text": [
            "Comments: Allow users to comment on posts and reply to each other’s comments.\n",
            "Mentions and Tags: Enable users to tag other users (e.g., @username) or use hashtags \n",
            "(#hashtag) in posts and comments for better engagement.\n",
            "Shares: Implement the functionality to allow users to share posts with their followers or in \n",
            "private messages.\n",
            " \n",
            "6. Private Messaging\n",
            " \n",
            "Direct Messages (DMs): Implement private messaging between users, where they can send \n",
            "and receive text, images, or videos.\n",
            "Group Chats: Allow users to create group chats with multiple participants.\n",
            "Notifications: Notify users when they receive a new message or notification related to their \n",
            "account.\n",
            " \n",
            "7. Notifications\n",
            " \n",
            "Real-time Alerts: Notify users about new followers, likes, comments, and mentions in real-\n",
            "time (using technologies like WebSockets or Firebase).\n",
            "Push Notifications: Enable push notifications to keep users engaged even when they are not \n",
            "actively using the site.\n",
            "Email Notifications: Send email alerts for important actions like password changes or new \n",
            "messages.\n",
            " \n",
            "8. Search and Discoverability\n",
            " \n",
            "Search Functionality: Allow users to search for posts, other users, hashtags, or content within \n",
            "the platform.\n",
            "Trending Topics: Display trending topics or popular content based on user activity and \n",
            "engagement.\n",
            "Hashtags: Allow users to add hashtags to posts for categorization and easier discoverability.\n",
            " \n",
            "9. Content Moderation and Reporting\n",
            " \n",
            "Flagging Inappropriate Content: Allow users to report posts or comments that violate \n",
            "community guidelines.\n",
            "Admin Panel: Develop an admin interface where administrators can review flagged content, \n",
            "block users, or take necessary actions to ensure a safe community.\n",
            "Content Filtering: Implement automatic content moderation features like detecting profanity \n",
            "or offensive language.\n",
            " \n",
            "10. Privacy and Security\n",
            " \n",
            "Profile Privacy Settings: Let users control who can see their posts, send them messages, or \n",
            "follow them (public, private, or friends-only settings).\n",
            "Two-Factor Authentication (2FA): Enhance user security by offering two-factor authentication \n",
            "during login.\n",
            "Data Encryption: Ensure sensitive data, such as passwords, are encrypted and stored \n"
          ]
        }
      ]
    },
    {
      "cell_type": "markdown",
      "source": [
        "# **5. open the file contacts.txt in the apprend mode. Add the text of page 2 from the above to contacts.txt**"
      ],
      "metadata": {
        "id": "DMv3RnyMuNtr"
      }
    },
    {
      "cell_type": "code",
      "source": [
        "txt_file_append = open('contacts.txt', 'a+')  # open 'contacts.txt' in append+read mode ('a+'); creates file if it doesn't exist\n",
        "txt_file_append.write(page_2) # append the string stored in page_2 to the end of 'contacts.txt' without removing old content\n",
        "txt_file_append.seek(0) # move the file pointer to the beginning so we can read from the start\n",
        "print(txt_file_append.read()) # read and print the entire content of 'contacts.txt' from the beginning\n",
        "txt_file_append.close() # close the file to free system resources\n"
      ],
      "metadata": {
        "colab": {
          "base_uri": "https://localhost:8080/",
          "height": 0
        },
        "id": "AFxmWFFetvyt",
        "outputId": "3c11dfa0-e0e2-4f28-83ca-cde1421df55b"
      },
      "execution_count": 15,
      "outputs": [
        {
          "output_type": "stream",
          "name": "stdout",
          "text": [
            "First_Name, Last_Name, Title, Extension,Email\n",
            "Comments: Allow users to comment on posts and reply to each other’s comments.\n",
            "Mentions and Tags: Enable users to tag other users (e.g., @username) or use hashtags \n",
            "(#hashtag) in posts and comments for better engagement.\n",
            "Shares: Implement the functionality to allow users to share posts with their followers or in \n",
            "private messages.\n",
            " \n",
            "6. Private Messaging\n",
            " \n",
            "Direct Messages (DMs): Implement private messaging between users, where they can send \n",
            "and receive text, images, or videos.\n",
            "Group Chats: Allow users to create group chats with multiple participants.\n",
            "Notifications: Notify users when they receive a new message or notification related to their \n",
            "account.\n",
            " \n",
            "7. Notifications\n",
            " \n",
            "Real-time Alerts: Notify users about new followers, likes, comments, and mentions in real-\n",
            "time (using technologies like WebSockets or Firebase).\n",
            "Push Notifications: Enable push notifications to keep users engaged even when they are not \n",
            "actively using the site.\n",
            "Email Notifications: Send email alerts for important actions like password changes or new \n",
            "messages.\n",
            " \n",
            "8. Search and Discoverability\n",
            " \n",
            "Search Functionality: Allow users to search for posts, other users, hashtags, or content within \n",
            "the platform.\n",
            "Trending Topics: Display trending topics or popular content based on user activity and \n",
            "engagement.\n",
            "Hashtags: Allow users to add hashtags to posts for categorization and easier discoverability.\n",
            " \n",
            "9. Content Moderation and Reporting\n",
            " \n",
            "Flagging Inappropriate Content: Allow users to report posts or comments that violate \n",
            "community guidelines.\n",
            "Admin Panel: Develop an admin interface where administrators can review flagged content, \n",
            "block users, or take necessary actions to ensure a safe community.\n",
            "Content Filtering: Implement automatic content moderation features like detecting profanity \n",
            "or offensive language.\n",
            " \n",
            "10. Privacy and Security\n",
            " \n",
            "Profile Privacy Settings: Let users control who can see their posts, send them messages, or \n",
            "follow them (public, private, or friends-only settings).\n",
            "Two-Factor Authentication (2FA): Enhance user security by offering two-factor authentication \n",
            "during login.\n",
            "Data Encryption: Ensure sensitive data, such as passwords, are encrypted and stored \n"
          ]
        }
      ]
    },
    {
      "cell_type": "markdown",
      "source": [
        "# **6. Using the page_two text variable created above, extract any email address that were contained in the pdf file.**"
      ],
      "metadata": {
        "id": "He5Pwg0uvSRl"
      }
    },
    {
      "cell_type": "markdown",
      "source": [
        "<!-- Add some email in 'contacts.txt' -->"
      ],
      "metadata": {
        "id": "RXGEexwGxnSn"
      }
    },
    {
      "cell_type": "code",
      "source": [
        "import re  # import the regular expressions module\n",
        "\n",
        "pattern = r'[\\w]+@[\\w]+.\\w{3}'  # define a regex pattern to find simple email addresses:\n",
        "# [\\w]+   → one or more word characters (letters, digits, underscore)\n",
        "# @       → literal @ symbol\n",
        "# [\\w]+   → one or more word characters (email domain name)\n",
        "# .       → any single character (should be escaped for literal dot, but here it's a wildcard)\n",
        "# \\w{3}   → exactly 3 word characters (like 'com', 'org')\n",
        "\n",
        "email = re.findall(pattern, page_2)  # search page_2 string for all substrings matching the pattern and return a list\n",
        "\n",
        "print(email)  # print the list of found email addresses\n"
      ],
      "metadata": {
        "colab": {
          "base_uri": "https://localhost:8080/",
          "height": 0
        },
        "id": "uQXmwArRuxhg",
        "outputId": "b3f91537-10d8-4877-91e7-5971f9b3461a"
      },
      "execution_count": 16,
      "outputs": [
        {
          "output_type": "stream",
          "name": "stdout",
          "text": [
            "[]\n"
          ]
        }
      ]
    },
    {
      "cell_type": "code",
      "source": [],
      "metadata": {
        "id": "OU3IxgNTu1tW"
      },
      "execution_count": 16,
      "outputs": []
    }
  ]
}